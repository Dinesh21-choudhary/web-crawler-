{
 "cells": [
  {
   "cell_type": "code",
   "execution_count": 2,
   "metadata": {},
   "outputs": [],
   "source": [
    "import requests\n",
    "import bs4\n",
    "from bs4 import BeautifulSoup"
   ]
  },
  {
   "cell_type": "code",
   "execution_count": 3,
   "metadata": {},
   "outputs": [],
   "source": [
    "url='https://economictimes.indiatimes.com/markets/stocks/news'"
   ]
  },
  {
   "cell_type": "code",
   "execution_count": 5,
   "metadata": {},
   "outputs": [],
   "source": [
    "headers = {\n",
    "    'User-Agent':\"Mozilla/5.0 (Windows NT 10.0; Win64; x64) AppleWebKit/537.36 (KHTML, like Gecko) Chrome/87.0.4280.88 Safari/537.36 Edg/87.0.664.66\"\n",
    "}"
   ]
  },
  {
   "cell_type": "code",
   "execution_count": 6,
   "metadata": {},
   "outputs": [],
   "source": [
    "r=requests.get(url,{'headers':headers})"
   ]
  },
  {
   "cell_type": "code",
   "execution_count": 7,
   "metadata": {},
   "outputs": [],
   "source": [
    "soup=bs4.BeautifulSoup(r.text,'html.parser')"
   ]
  },
  {
   "cell_type": "code",
   "execution_count": 13,
   "metadata": {},
   "outputs": [
    {
     "data": {
      "text/plain": [
       "'Torrent Pharmaceuticals Ltd. shares  drop  0.19% as Sensex  rises '"
      ]
     },
     "execution_count": 13,
     "metadata": {},
     "output_type": "execute_result"
    }
   ],
   "source": [
    "soup.find_all('div',{'class':'eachStory'})[1].find_all('a')[-1].text"
   ]
  },
  {
   "cell_type": "code",
   "execution_count": 21,
   "metadata": {},
   "outputs": [
    {
     "name": "stdout",
     "output_type": "stream",
     "text": [
      "1: Motherson Sumi Systems Ltd. shares  up  0.03% as Nifty  gains \n",
      "A total of 468,102 shares changed hands on the counter till 01:28PM (IST).\n",
      "\n",
      "2: Torrent Pharmaceuticals Ltd. shares  drop  0.19% as Sensex  rises \n",
      "The stock quoted a 52-week high of Rs 3040.0 and a 52-week low of Rs 1619.0.\n",
      "\n",
      "3: US stocks in 2020: a year for the history books\n",
      "The year 2020 was a wild one for Wall Street, bookended by the end of the longest bull market in history with the battering of equities by the COVID-19 shutdowns, and a bungee-cord rebound on hopes for economic recovery that resulted in the shortest bear market on record.After closing at a record high on Feb. 19, stocks suffered a month-long plummet as the coronavirus pandemic and related government lockdowns sowed panic about the damage to the economy in the United States and globally.\n",
      "\n",
      "4: ICICI Prudential Life Insurance Company Ltd. shares  rise  0.22 per cent in Friday's trading session\n",
      "The Relative Strength Index of the stock stood at 64.63 on Friday.\n",
      "\n",
      "5: Praj Industries bags Rs 226.90 cr order from Indian Oil Corporation\n",
      "In a regulatory filing the company said the Rs 226.90 crore order from Indian Oil Corporation is for \"execution of zero liquid discharge system - water treatment package and waste water treatment package of Acrylic/Oxo-Alcohol Project at IOCL Dumad, Gujarat\".\n",
      "\n",
      "6: Marico Ltd. shares  down  0.06% as Nifty  gains \n",
      "A total of 14,026 shares changed hands on the counter till 01:07PM (IST).\n",
      "\n",
      "7: Info Edge (India) Ltd. shares  decline  0.19% as Sensex  climbs \n",
      "A total of 2,471 shares changed hands on the counter till 01:02PM (IST)\n",
      "\n",
      "8: MRF Ltd. shares  up  0.25% as Sensex  rises \n",
      "A total of 342 shares changed hands on the counter till 12:57PM (IST)\n",
      "\n",
      "9: NCC climbs 6% to 52-week high on securing Rs 8,980 cr orders in December\n",
      "The stock rose 6.42 per cent to hit a fresh 52-week high of Rs 61.35 on BSE. At this price, the construction and engineering company is trading at a price to earnings ratio of 11.88.\n",
      "\n",
      "10: Indraprastha Gas Ltd. stock price  up  1.09 per cent as Sensex  climbs \n",
      "As of 30-Sep-2020, promoters held 45.0 per cent stake in the company, while FIIs held 21.27 per cent and domestic institutional investors had 7.32 per cent.\n",
      "\n"
     ]
    }
   ],
   "source": [
    "i=0\n",
    "while i<10:\n",
    "    headline= (soup.find_all('div',{'class':'eachStory'})[i].find_all('a')[-1].text)\n",
    "    print(str(i+1)+\": \" +headline)\n",
    "    print(soup.find_all('div',{'class':'eachStory'})[i].find_all('p')[-1].text)\n",
    "    print()\n",
    "    i+=1"
   ]
  },
  {
   "cell_type": "code",
   "execution_count": 42,
   "metadata": {},
   "outputs": [],
   "source": [
    "def getnews():\n",
    "    r=requests.get(url,{'headers':headers})\n",
    "    soup=bs4.BeautifulSoup(r.text,'html.parser')\n",
    "    soup.find_all('div',{'class':'eachStory'})[1].find_all('a')[-1].text \n",
    "    i=0\n",
    "    length=len((soup.find_all('div',{'class':'eachStory'})))\n",
    "               \n",
    "    while i<length:\n",
    "        headline= (soup.find_all('div',{'class':'eachStory'})[i].find_all('a')[-1].text)\n",
    "        print(str(i+1)+\": \" +headline)\n",
    "        print(soup.find_all('div',{'class':'eachStory'})[i].find_all('p')[0].text)\n",
    "        print()\n",
    "        i+=1\n"
   ]
  },
  {
   "cell_type": "code",
   "execution_count": 43,
   "metadata": {},
   "outputs": [
    {
     "name": "stdout",
     "output_type": "stream",
     "text": [
      "1: Aurobindo Pharma Ltd. shares  rise  0.92% as Nifty  gains \n",
      "The stock quoted a 52-week high price of Rs 967.6 and a 52-week low of Rs 281.15.\n",
      "\n",
      "2: GAIL (India) Ltd. shares  gain  0.53% as Sensex  rises \n",
      "On the technical charts, the RSI of the stock stood at 64.87.\n",
      "\n",
      "3: Share price of Vedanta Ltd.  falls  as Nifty  strengthens \n",
      "A total of 471,636 shares changed hands on the counter till 01:54PM (IST).\n",
      "\n",
      "4: Biocon Ltd. shares  down  0.34% as Nifty  falls \n",
      "The stock quoted a 52-week high price of Rs 487.7 and low of Rs 235.8.\n",
      "\n",
      "5: Share price of Apollo Hospitals Enterprise Ltd.  rises  as Nifty  strengthens \n",
      "A total of 5,318 shares changed hands on the counter till 01:44PM (IST).\n",
      "\n",
      "6: Berger Paints (India) Ltd. shares  up  0.61% as Sensex  rises \n",
      "A total of 14,906 shares changed hands on the counter till 01:38PM (IST)\n",
      "\n",
      "7: Voltas Ltd. share price  up  0.53 per cent\n",
      "A total of 18,021 shares changed hands on the counter till 01:33PM (IST).\n",
      "\n",
      "8: Sectors on which HDFC Securities is betting on in the New Year\n",
      "HDFC Securities' top 10 stock picks for 2021 are: Bandhan Bank, Birla Corporation, GAIL, HPCL, HUL, Infosys, Nippon AMC, ONGC, SBI and Sun Pharma\n",
      "\n",
      "9: Motherson Sumi Systems Ltd. shares  up  0.03% as Nifty  gains \n",
      "A total of 468,102 shares changed hands on the counter till 01:28PM (IST).\n",
      "\n",
      "10: Torrent Pharmaceuticals Ltd. shares  drop  0.19% as Sensex  rises \n",
      "The stock quoted a 52-week high of Rs 3040.0 and a 52-week low of Rs 1619.0.\n",
      "\n",
      "11: ICICI Prudential Life Insurance Company Ltd. shares  rise  0.22 per cent in Friday's trading session\n",
      "The Relative Strength Index of the stock stood at 64.63 on Friday.\n",
      "\n",
      "12: Praj Industries bags Rs 226.90 cr order from Indian Oil Corporation\n",
      "In a regulatory filing the company said the Rs 226.90 crore order from Indian Oil Corporation is for \"execution of zero liquid discharge system - water treatment package and waste water treatment package of Acrylic/Oxo-Alcohol Project at IOCL Dumad, Gujarat\".\n",
      "\n",
      "13: Marico Ltd. shares  down  0.06% as Nifty  gains \n",
      "A total of 14,026 shares changed hands on the counter till 01:07PM (IST).\n",
      "\n",
      "14: Info Edge (India) Ltd. shares  decline  0.19% as Sensex  climbs \n",
      "A total of 2,471 shares changed hands on the counter till 01:02PM (IST)\n",
      "\n",
      "15: MRF Ltd. shares  up  0.25% as Sensex  rises \n",
      "A total of 342 shares changed hands on the counter till 12:57PM (IST)\n",
      "\n",
      "16: NCC climbs 6% to 52-week high on securing Rs 8,980 cr orders in December\n",
      "The stock rose 6.42 per cent to hit a fresh 52-week high of Rs 61.35 on BSE. At this price, the construction and engineering company is trading at a price to earnings ratio of 11.88.\n",
      "\n"
     ]
    }
   ],
   "source": [
    "getnews()"
   ]
  },
  {
   "cell_type": "code",
   "execution_count": null,
   "metadata": {},
   "outputs": [],
   "source": []
  }
 ],
 "metadata": {
  "kernelspec": {
   "display_name": "Python 3",
   "language": "python",
   "name": "python3"
  },
  "language_info": {
   "codemirror_mode": {
    "name": "ipython",
    "version": 3
   },
   "file_extension": ".py",
   "mimetype": "text/x-python",
   "name": "python",
   "nbconvert_exporter": "python",
   "pygments_lexer": "ipython3",
   "version": "3.7.3"
  }
 },
 "nbformat": 4,
 "nbformat_minor": 2
}
